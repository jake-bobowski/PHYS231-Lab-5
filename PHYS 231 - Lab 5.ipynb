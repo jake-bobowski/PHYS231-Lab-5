{
 "cells": [
  {
   "cell_type": "markdown",
   "id": "0c9e4007",
   "metadata": {
    "deletable": false,
    "editable": false,
    "tags": []
   },
   "source": [
    "# <div style=\"background-color:rgba(204, 229, 255, 0.5); text-align:center; vertical-align: middle; padding:40px 0; margin-top:30px\"><span style=\"color:rgba(0, 76, 153, 1);\">PHYS 231 Lab #5</span></div>\n",
    "\n",
    "### Due Monday, Oct. 31 at 2:00 pm $-$ upload your .zip submission to the PHYS 231 Canvas Gradebook."
   ]
  },
  {
   "cell_type": "markdown",
   "id": "47056633",
   "metadata": {
    "deletable": false,
    "editable": false,
    "tags": []
   },
   "source": [
    "***\n",
    "## Lab Learning Outcomes:\n",
    "By the end of the PHYS 231 Lab #5, students will be able to:\n",
    "* <b><span style=\"color:rgba(0, 153, 76, 1);\">Design, build, and test a practical op-amp based inverting amplifier.</span></b>\n",
    "* <b><span style=\"color:rgba(0, 153, 76, 1);\">Experimentally explore the limitations of op-amp circuits.</span></b>\n",
    "* <b><span style=\"color:rgba(0, 153, 76, 1);\">Use a log-log plot to examine the important characteristics of the inverting amplifier's frequency response.</span></b>"
   ]
  },
  {
   "cell_type": "markdown",
   "id": "4f368303",
   "metadata": {
    "deletable": false,
    "editable": false,
    "tags": []
   },
   "source": [
    "# <div style=\"background-color:rgba(255, 204, 255, 0.5); text-align:center; vertical-align: middle; padding:40px 0; margin-top:30px\"><span style=\"color:rgba(102, 0, 204, 1);\">Part 1 - Installing & Importing Packages</span></div>\n",
    "\n",
    "## The 'InstallerCheck()' Function:\n",
    "\n",
    "Run the 'InstallerCheck()' function contained within PHYS231.py by placing you're cursor inside the code cell below and then hitting 'Shift'+'Enter'.  If the function reports that some packages have been installed, run the cell with \"InstallerCheck()\" a second time.  It should report that all required packages are already installed."
   ]
  },
  {
   "cell_type": "code",
   "execution_count": null,
   "id": "c646509e",
   "metadata": {
    "deletable": false,
    "editable": false,
    "tags": []
   },
   "outputs": [],
   "source": [
    "import PHYS231\n",
    "PHYS231.InstallerCheck()"
   ]
  },
  {
   "cell_type": "markdown",
   "id": "2a5bdb00",
   "metadata": {
    "deletable": false,
    "editable": false,
    "tags": []
   },
   "source": [
    "## Importing Packages/Modules:\n",
    "\n",
    "Once the packages are installed, they can be imported using the notation:\n",
    "```python\n",
    "import packageName\n",
    "```\n",
    "where 'packageName' is the name of the package to be imported.  Execute the import statements below by placing your cursor within the code cell and hitting 'Shift' + 'Enter'."
   ]
  },
  {
   "cell_type": "code",
   "execution_count": null,
   "id": "2e999d51",
   "metadata": {
    "deletable": false
   },
   "outputs": [],
   "source": [
    "# Import required and commonly-used modules\n",
    "import matplotlib.pyplot as plt\n",
    "import numpy as np\n",
    "import pandas as pd\n",
    "import uncertainties\n",
    "from uncertainties import ufloat\n",
    "    \n",
    "# Initialize Otter\n",
    "import otter\n",
    "grader = otter.Notebook(\"PHYS 231 - Lab 5.ipynb\")"
   ]
  },
  {
   "cell_type": "markdown",
   "id": "750f5d25",
   "metadata": {
    "deletable": false,
    "editable": false,
    "tags": []
   },
   "source": [
    "# <div style=\"background-color:rgba(255, 204, 255, 0.5); text-align:center; vertical-align: middle; padding:40px 0; margin-top:30px\"><span style=\"color:rgba(102, 0, 204, 1);\">Part 2 - Oscilloscope Measurement of the Amplifier Gain</span></div>\n",
    "\n",
    "## NumPy Arrays\n",
    "\n",
    "Data that you collect during the lab can be entered directly into a list using the following notation:\n",
    "\n",
    "```python\n",
    "x = [x0, x1, x2, x3, ..., xN]\n",
    "y = [y0, y1, y2, y3, ..., yN]\n",
    "```\n",
    "These lists will contain $N+1$ elements. It's usually more convenient to enter data into a NumPy array rather than a list because you can do mathematical operations on arrays that you can't do on lists.  For example:\n",
    "\n",
    "- squaring an array creates an new array with each of the elements from the original array squared\n",
    "- multiplying two arrays of the same length creates a new array in which the each elements is the product of the corresponding elements from the original arrays\n",
    "- ...\n",
    "\n",
    "NumPy arrays are entered using the following syntax:\n",
    "\n",
    "```python\n",
    "x = np.array([x0, x1, x2, x3, ..., xN])\n",
    "y = np.array([y0, y1, y2, y3, ..., yN])\n",
    "```             \n",
    "\n",
    "In the cell below, replace the \"...\" in NumPy array statements with your measurements of:\n",
    "\n",
    "- frequency in kHz\n",
    "- the amplitude of the signal from the function generator Vin in volts\n",
    "- the uncertainty in Vin in volts\n",
    "- the amplitude of the output voltage Vout in volts\n",
    "- the uncertainty in Vout in volts\n",
    "\n",
    "After executing the cell, the lengths of each of the arrays you've entered will be printed.  Make sure that all of the lengths are the same."
   ]
  },
  {
   "cell_type": "code",
   "execution_count": null,
   "id": "1a176351",
   "metadata": {},
   "outputs": [],
   "source": [
    "# Enter your data into the arrays below.\n",
    "# Please do NOT change the variable names.\n",
    "frequency = np.array([...]) # kHz\n",
    "Vin = np.array([...]) # V\n",
    "errVin = np.array([...]) # V\n",
    "Vout = np.array([...]) # V\n",
    "errVout = np.array([...]) # V\n",
    "\n",
    "# The statements below will print the lengths of the arrays.\n",
    "print(\"Length of frequency array:\", len(frequency))\n",
    "print(\"Length of Vin array:\", len(Vin))\n",
    "print(\"Length of errVin array:\", len(errVin))\n",
    "print(\"Length of Vout array:\", len(Vout))\n",
    "print(\"Length of errVout array:\", len(errVout))"
   ]
  },
  {
   "cell_type": "markdown",
   "id": "e9defed3",
   "metadata": {
    "deletable": false,
    "editable": false,
    "tags": []
   },
   "source": [
    "## Pandas DataFrames\n",
    "\n",
    "The Pandas package can be used to display your array data in a nicely-formated table.  The Pandas package creates \"DataFrames\" which are 2 dimensional data structures, like a 2 dimensional array, or a table with rows and columns.  The cell below creates and then displays a DataFrame using the arrays that you created in the cell above."
   ]
  },
  {
   "cell_type": "code",
   "execution_count": null,
   "id": "6b351ac7",
   "metadata": {},
   "outputs": [],
   "source": [
    "# Create the data structure.\n",
    "data = {\n",
    "    \"frequnecy (kHz)\": frequency,\n",
    "    \"Vin (V)\": Vin,\n",
    "    \"errVin (V)\": errVin,\n",
    "    \"Vout (V)\": Vout,\n",
    "    \"errVout (V)\": errVout\n",
    "        }\n",
    "\n",
    "# An option to format the numbers in the DataFrame.\n",
    "pd.set_option('display.float_format', lambda x: '%0.3g' % x)\n",
    "\n",
    "#Display the data.\n",
    "pd.DataFrame(data)"
   ]
  },
  {
   "cell_type": "markdown",
   "id": "622b33ad",
   "metadata": {
    "deletable": false,
    "editable": false,
    "tags": []
   },
   "source": [
    "## $V_\\mathrm{out}/V_\\mathrm{in}$ versus $f$\n",
    "\n",
    "In the cells below, calculate:\n",
    "  \n",
    "- $G = V_\\mathrm{out}/V_\\mathrm{in}$\n",
    "- the uncertainty in $V_\\mathrm{out}/V_\\mathrm{in}$\n",
    "\n",
    "Here, $G$ represents the absolute value of the gain of the amplifier.  We'll assume the relative uncertainty in the frequency is negligible compared the relative uncertainties of the other relevant parameters.\n",
    "\n",
    "Recall propagation of errors.  If $y = f\\left(x1, x2, ..., x_N\\right)$ and $x_i\\pm\\Delta x_i$ for $i= 1...N$ are known, then:\n",
    "\n",
    "\\begin{align}\n",
    "\\Delta y = \\sqrt{\\left(\\frac{\\partial f}{\\partial x_1}\\Delta x_1\\right)^2 + \\left(\\frac{\\partial f}{\\partial x_2}\\Delta x_2\\right)^2 + ... + \\left(\\frac{\\partial f}{\\partial x_N}\\Delta x_N\\right)^2}\n",
    "\\end{align}\n",
    "\n",
    "Please do **NOT** change the variable names."
   ]
  },
  {
   "cell_type": "code",
   "execution_count": null,
   "id": "a1709c3d",
   "metadata": {
    "tags": []
   },
   "outputs": [],
   "source": [
    "G = ..."
   ]
  },
  {
   "cell_type": "code",
   "execution_count": null,
   "id": "d7c9ecec",
   "metadata": {
    "deletable": false,
    "editable": false
   },
   "outputs": [],
   "source": [
    "grader.check(\"G\")"
   ]
  },
  {
   "cell_type": "code",
   "execution_count": null,
   "id": "7c8124ac",
   "metadata": {
    "tags": []
   },
   "outputs": [],
   "source": [
    "# Note that, in Python, the square root can be called using np.sqrt(...).\n",
    "errG = ..."
   ]
  },
  {
   "cell_type": "code",
   "execution_count": null,
   "id": "b4fc92de",
   "metadata": {
    "deletable": false,
    "editable": false
   },
   "outputs": [],
   "source": [
    "grader.check(\"G_uncertainty\")"
   ]
  },
  {
   "cell_type": "markdown",
   "id": "2e5617f9",
   "metadata": {
    "deletable": false,
    "editable": false,
    "tags": []
   },
   "source": [
    "### Plot the data\n",
    "\n",
    "The $V_\\mathrm{out}/V_\\mathrm{in}$ data can now be plotted as a function of frequency.  Execute the cell below to created a scatter plot with error bars.  For additional information about the 'Scatter' function, see **Appendix A** near the end of this notebook. "
   ]
  },
  {
   "cell_type": "code",
   "execution_count": null,
   "id": "845d8ea2",
   "metadata": {},
   "outputs": [],
   "source": [
    "fig1 = PHYS231.Scatter(\n",
    "    xData = frequency,\n",
    "    yData = G,\n",
    "    yErrors = errG,\n",
    "    xlabel = \"frequency\",\n",
    "    ylabel = \"G = Vout/Vin\",\n",
    "    xUnits = \"kHz\",\n",
    "    yUnits = \"\",\n",
    ")"
   ]
  },
  {
   "cell_type": "markdown",
   "id": "8f66da96",
   "metadata": {
    "deletable": false,
    "editable": false,
    "tags": []
   },
   "source": [
    "## $V_\\mathrm{out}/V_\\mathrm{in}$ versus $f$\n",
    "\n",
    "When measuring the response of a system (the gain of the amplifier, in this case) over a wide range of stimulus values (frequency, in this case) it is sometimes convenient to look at the data using *log-log plots*.  In this lab, such a plot will allow us to look for differences in the low-frequency and high-frequency response of the amplifier circuit.\n",
    "\n",
    "In the cells below, we calculate the log of the the amplifier's gain ($G = V_\\mathrm{out}/V_\\mathrm{in}$) and the log of frequency.  All you need to do is execute the cells below."
   ]
  },
  {
   "cell_type": "code",
   "execution_count": null,
   "id": "1cbf55f9",
   "metadata": {},
   "outputs": [],
   "source": [
    "logf = np.log10(frequency)\n",
    "logG = np.log10(G)"
   ]
  },
  {
   "cell_type": "markdown",
   "id": "e960eefe",
   "metadata": {
    "deletable": false,
    "editable": false,
    "tags": []
   },
   "source": [
    "To calculate the error in the log of the gain, first note that if:\n",
    "$$\n",
    "y= \\log x,\n",
    "$$\n",
    "Then:\n",
    "$$\n",
    "x = 10^y,\n",
    "$$\n",
    "such that:\n",
    "$$\n",
    "\\ln x=\\ln\\left(10^y\\right)=y\\ln 10.\n",
    "$$\n",
    "Therefore, it must be the case that:\n",
    "$$\n",
    "y=\\log x=\\frac{1}{\\ln 10}\\ln x,\n",
    "$$\n",
    "which allows us to us propagation of errors to deduce that:\n",
    "$$\n",
    "\\Delta y = \\frac{1}{\\ln 10}\\left(\\frac{\\Delta x}{x}\\right).\n",
    "$$\n",
    "In the cell below, enter an expression to calculate the uncertainty in the log of the gain."
   ]
  },
  {
   "cell_type": "code",
   "execution_count": null,
   "id": "60865098",
   "metadata": {
    "tags": []
   },
   "outputs": [],
   "source": [
    "# Note that, in Python, np.log(x) represents ln(x) (natural logarithm, base e) and np.log10(x) represents log(x) (base 10 logarithm).\n",
    "errlogG = ..."
   ]
  },
  {
   "cell_type": "code",
   "execution_count": null,
   "id": "f35b8adc",
   "metadata": {
    "deletable": false,
    "editable": false
   },
   "outputs": [],
   "source": [
    "grader.check(\"logG_uncertainty\")"
   ]
  },
  {
   "cell_type": "markdown",
   "id": "f64b3539",
   "metadata": {
    "deletable": false,
    "editable": false,
    "tags": []
   },
   "source": [
    "### Plot the $\\log G$ vs $log f$\n",
    "\n",
    "The $\\log G$ data can now be plotted as a function of $\\log f$.  Execute the cell below to created a scatter plot with error bars.  For additional information about the 'Scatter' function, see **Appendix A** near the end of this notebook. "
   ]
  },
  {
   "cell_type": "code",
   "execution_count": null,
   "id": "55fca4b6",
   "metadata": {},
   "outputs": [],
   "source": [
    "fig2 = PHYS231.Scatter(\n",
    "    xData = logf,\n",
    "    yData = logG,\n",
    "    yErrors = errlogG,\n",
    "    xlabel = \"log f\",\n",
    "    ylabel = \"log G\",\n",
    "    xUnits = \"\",\n",
    "    yUnits = \"\",\n",
    ")"
   ]
  },
  {
   "cell_type": "markdown",
   "id": "90f10df3",
   "metadata": {
    "deletable": false,
    "editable": false,
    "tags": []
   },
   "source": [
    "## Linear Fit\n",
    "\n",
    "You should have found that the high-frequency portion of your $\\log G$ versus $\\log f$ plot is linear with a negative slope.  The final bit of analysis that we'll do is to:\n",
    "\n",
    " - select the part of the data that is linear\n",
    " - find the slope of the linear section\n",
    "\n",
    "First, we'll sort the data in the order of increasing values of $\\log f$."
   ]
  },
  {
   "cell_type": "code",
   "execution_count": null,
   "id": "f6be0b24",
   "metadata": {},
   "outputs": [],
   "source": [
    "inds = logf.argsort()\n",
    "logf_sorted = logf[inds]\n",
    "logG_sorted = logG[inds]\n",
    "errlogG_sorted = errlogG[inds]\n",
    "\n",
    "# Look at the contents of logf_sorted and logG_sorted.\n",
    "logf_sorted, logG_sorted"
   ]
  },
  {
   "cell_type": "markdown",
   "id": "74a36880",
   "metadata": {
    "deletable": false,
    "editable": false,
    "tags": []
   },
   "source": [
    "Now select the part of the data that will used for the linear fit.  Adjust the start and stop values until the plot shows only the high-frequency linear portion of the data."
   ]
  },
  {
   "cell_type": "code",
   "execution_count": null,
   "id": "d26fc990",
   "metadata": {},
   "outputs": [],
   "source": [
    "# Set the limits.\n",
    "start = ...\n",
    "stop = ...\n",
    "\n",
    "# Cut the data.\n",
    "logf_cut = logf_sorted[start:stop]\n",
    "logG_cut = logG_sorted[start:stop]\n",
    "errlogG_cut = errlogG_sorted[start:stop]\n",
    "\n",
    "# Plot the cut data.\n",
    "fig3 = PHYS231.Scatter(\n",
    "    xData = logf_cut,\n",
    "    yData = logG_cut,\n",
    "    yErrors = errlogG_cut,\n",
    "    xlabel = \"log f\",\n",
    "    ylabel = \"log G\",\n",
    "    xUnits = \"\",\n",
    "    yUnits = \"\",\n",
    ")"
   ]
  },
  {
   "cell_type": "markdown",
   "id": "a2e5e9b2",
   "metadata": {
    "deletable": false,
    "editable": false,
    "tags": []
   },
   "source": [
    "## Linear Fits\n",
    "\n",
    "The final thing that we'll do is fit a straight line through the cut data.  We'll use the 'LinearFit' contained in PHYS231.py to complete this task.  The function call to perform a weighted fit is:\n",
    "```python\n",
    "m, b, dm, db, fig = PHYS231.LinearFit(t, y, erry)\n",
    "```\n",
    "A weighted fit with a formatted plot can be called by using some of the other available arguments:\n",
    "```python\n",
    "m, b, dm, db, fig = PHYS231.LinearFit(xData = t, yData = y, yErrors = erry, xlabel = 'time', ylabel = 'position', xUnits = 's', yUnits = 'm')\n",
    "```\n",
    "Execute the cell below to preform a weighted linear fit to your data.\n",
    "\n",
    "For additional information about the 'LinearFit' function, see **Appendix B** near the end of this notebook. "
   ]
  },
  {
   "cell_type": "code",
   "execution_count": null,
   "id": "5958203e",
   "metadata": {},
   "outputs": [],
   "source": [
    "m, b, dm, db, fig4 = PHYS231.LinearFit(\n",
    "    xData = logf_cut,\n",
    "    yData= logG_cut,\n",
    "    yErrors = errlogG_cut,\n",
    "    xlabel = \"log f\",\n",
    "    ylabel = \"log G\",\n",
    "    xUnits = \"\",\n",
    "    yUnits = \"\",\n",
    ")"
   ]
  },
  {
   "cell_type": "markdown",
   "id": "fc37ba54",
   "metadata": {
    "deletable": false,
    "editable": false,
    "tags": []
   },
   "source": [
    "<!-- BEGIN QUESTION -->\n",
    "\n",
    "# <div style=\"background-color:rgba(255, 204, 255, 0.5); text-align:center; vertical-align: middle; padding:40px 0; margin-top:30px\"><span style=\"color:rgba(102, 0, 204, 1);\">Part 3 - Feedback and Submission</span></div>"
   ]
  },
  {
   "cell_type": "markdown",
   "id": "c52d5d35",
   "metadata": {
    "deletable": false,
    "editable": false,
    "tags": []
   },
   "source": [
    "***\n",
    "**<span style=\"color:blue\">Question 3.1:</span>**  \n",
    "\n",
    "We welcome your feedback on the PHYS 231 labs!  Please feel free to include any comments you have about this lab in the cell below.  Your comments will be taken into consideration when revising/improving the PHYS 231 labs.  You can suggest improvements, point out anything that was unclear, comment on the strengths and weaknesses of the lab, ...\n",
    "\n",
    "This question is optional and will have no impact on your lab grade."
   ]
  },
  {
   "cell_type": "markdown",
   "id": "aa178479",
   "metadata": {},
   "source": [
    "_Type your answer here, replacing this text._"
   ]
  },
  {
   "cell_type": "markdown",
   "id": "09b9733c",
   "metadata": {
    "deletable": false,
    "editable": false,
    "tags": []
   },
   "source": [
    "<!-- END QUESTION -->\n",
    "\n",
    "***\n",
    "Once you've completed this notebook:\n",
    "- Save your work.\n",
    "- Run 'grader.export()' to generate a .zip file containing all of the materials that you will submit.\n",
    "- Download the generated .zip file.\n",
    "- Upload the .zip file to the PHYS 231 Canvas gradebook.\n",
    "\n",
    "Here is a <a href = \"https://cmps-people.ok.ubc.ca/jbobowsk/phys231/Python/images/Submission.gif\">GIF</a> showing how these steps are completed.  Once your completed notebook has been uploaded to the Canvas gradebook, you're done!"
   ]
  },
  {
   "cell_type": "markdown",
   "id": "77a0c8d8",
   "metadata": {
    "deletable": false,
    "editable": false
   },
   "source": [
    "## Submission\n",
    "\n",
    "Make sure you have run all cells in your notebook in order before running the cell below, so that all images/graphs appear in the output. The cell below will generate a zip file for you to submit. **Please save before exporting!**"
   ]
  },
  {
   "cell_type": "code",
   "execution_count": null,
   "id": "ed91f0e9",
   "metadata": {
    "deletable": false,
    "editable": false
   },
   "outputs": [],
   "source": [
    "# Save your notebook first, then run this cell to export your submission.\n",
    "grader.export(run_tests=True)"
   ]
  },
  {
   "cell_type": "markdown",
   "id": "056737f1",
   "metadata": {
    "deletable": false,
    "editable": false,
    "tags": []
   },
   "source": [
    "# <div style=\"background-color:rgba(255, 204, 255, 0.5); text-align:center; vertical-align: middle; padding:40px 0; margin-top:30px\"><span style=\"color:rgba(102, 0, 204, 1);\">Part 4 - Playground (optional)</span></div>\n",
    "\n",
    "Feel free to add as many cells as you like below and use them as a playground for further independent investigations.  These cells won't be graded, so feel free to use them in any way that you like.  "
   ]
  },
  {
   "cell_type": "code",
   "execution_count": null,
   "id": "b1885f39",
   "metadata": {},
   "outputs": [],
   "source": [
    "# Here's an empty code cell that you can use."
   ]
  },
  {
   "cell_type": "code",
   "execution_count": null,
   "id": "ad751642",
   "metadata": {},
   "outputs": [],
   "source": [
    "# Here's another empty code cell that you can use."
   ]
  },
  {
   "cell_type": "code",
   "execution_count": null,
   "id": "e19a6638",
   "metadata": {},
   "outputs": [],
   "source": [
    "# Here's yet another empty code cell that you can use.\n",
    "# If you need more, you can add cells using the '+' icon in the menu bar at to the top of the screen."
   ]
  },
  {
   "cell_type": "markdown",
   "id": "3c9c7dcc",
   "metadata": {
    "deletable": false,
    "editable": false,
    "tags": []
   },
   "source": [
    "### <div style=\"background-color:rgba(255, 255, 102, 0.5); text-align:left; padding:20px 0; margin-top:20px\">$\\quad$Appendix A &ndash; The Scatter Function...</div>\n",
    "\n",
    "The function for generating scatter plots is called as follows:\n",
    "```python\n",
    "PHYS231.Scatter(xData, yData, yErrors = [], xlabel = 'x-axis', ylabel = 'y-axis', xUnits = '', yUnits = '', fill = False, show = True)\n",
    "```\n",
    "The 'xData' and 'yData' inputs are required, all other arguments are optional with default values set.  The function returns the a single output (the formatted plot):\n",
    "```python\n",
    "fig\n",
    "```\n",
    "\n",
    "The function will do a simple scatter plot if no 'yError' are included.  It will included error bars if 'yErrors' are passed to the function.  The 'fill' and 'show' arguments should generally be false.  \n",
    "\n",
    "If the 'xData' list is empty, as in:\n",
    "```python\n",
    "xData = []\n",
    "```\n",
    "then the x-axis will be the trial number.  For example, is 'xData' is empty and 'yData' has 10 elements, the x-axis will span 1 to 10.\n",
    "\n",
    "### Scatter Example Implmentation\n",
    "The code block below shows an implementation of 'Scatter'.\n",
    "```python\n",
    "import PHYS231\n",
    "theta = [10, 20, 30] # degrees\n",
    "T = [2.02, 1.95, 2.13] # s\n",
    "errT = [0.02, 0.02, 0.03] # s\n",
    "fig = PHYS231.Scatter(theta, T, errT, 'initial angle' , 'period', 'degrees', 's')\n",
    "```\n",
    "\n",
    "If you're interested in generating your own plots with customized formatting, see the following Python-based plotting tutorial: https://cmps-people.ok.ubc.ca/jbobowsk/Python/html/Jupyter%20Basic%20Plots.html.\n",
    "***"
   ]
  },
  {
   "cell_type": "markdown",
   "id": "2501c537",
   "metadata": {
    "deletable": false,
    "editable": false,
    "tags": []
   },
   "source": [
    "### <div style=\"background-color:rgba(255, 255, 102, 0.5); text-align:left; padding:20px 0; margin-top:20px\">$\\quad$Appendix B &ndash; The LinearFit Function...</div>\n",
    "\n",
    "The linear-fit function is called as follows:\n",
    "```python\n",
    "PHYS231.LinearFit(xData, yData, yErrors = [], xlabel = 'x-axis', ylabel = 'y-axis', xUnits = '', yUnits = '', fill = False)\n",
    "```\n",
    "The xData and yData lists are required.  The others are optional with default values set.  The function returns the following outputs:\n",
    "```python\n",
    "Slope, Yintercept, errSlope, errYintercept, fig\n",
    "```\n",
    "The first four outputs are numerical values and 'fig' is the formatted plot. \n",
    "\n",
    "If $y$-uncertainities are provided, the function will perform a weighted fit.  The $y$-uncertainties list must be the same length as $x$- and $y$-data lists.  If $y$-uncertainties are not provided, the fit will be unweighted.  The other optional arguments include $x$- and $y$-axis names and units for the $x$- and $y$-datasets.  These must be entered as strings (enclosed in quotations) and they are used for formatting the outputs of the function.  If 'fill' is set to True, shading will be added around the best-fit line representing confindence intervals. \n",
    "\n",
    "### Unweighted Fit Example Implmentation\n",
    "The code block below shows the most basic use of 'LinearFit' for an unweighted fit without any of the optional arguments.\n",
    "```python\n",
    "import PHYS231\n",
    "V = [1, 2, 3, 4]\n",
    "I = [0.12, 0.198, 0.285, 0.412]\n",
    "m, b, dm, db, fig = PHYS231.LinearFit(V, I)\n",
    "```\n",
    "\n",
    "### Weighted Fit Example Implmentation\n",
    "This second blcok of code shows how to use 'LinearFit' to do a weighted fit.  It also makes use of all of the other optional arguments.  \n",
    "```python\n",
    "import PHYS231\n",
    "V = [1, 2, 3, 4]\n",
    "I = [0.12, 0.198, 0.285, 0.412]\n",
    "errI = [0.005, 0.012, 0.020, 0.025]\n",
    "m, b, dm, db, fig = PHYS231.LinearFit(V, I, errI, 'voltage' , 'current', 'V', 'A', True)\n",
    "```\n",
    "\n",
    "The 'm, b, dm, db, fig = ...' syntax is used to store the function outputs in varibles.  If you're interested in details of the fitting process, see the following Python-based tutorial: https://cmps-people.ok.ubc.ca/jbobowsk/Python/html/Jupyter%20Weighted%20Linear%20Fit.html\n",
    "***"
   ]
  },
  {
   "cell_type": "markdown",
   "id": "807c2584",
   "metadata": {},
   "source": [
    "Last update: October 29, 2022"
   ]
  }
 ],
 "metadata": {
  "kernelspec": {
   "display_name": "Python 3 (ipykernel)",
   "language": "python",
   "name": "python3"
  },
  "language_info": {
   "codemirror_mode": {
    "name": "ipython",
    "version": 3
   },
   "file_extension": ".py",
   "mimetype": "text/x-python",
   "name": "python",
   "nbconvert_exporter": "python",
   "pygments_lexer": "ipython3",
   "version": "3.9.13"
  },
  "otter": {
   "OK_FORMAT": true,
   "tests": {
    "G": {
     "name": "G",
     "points": 1,
     "suites": [
      {
       "cases": [
        {
         "code": ">>> len(G) != 0\nTrue",
         "hidden": false,
         "locked": false
        },
        {
         "code": ">>> test = True\n>>> for i in range(len(G)):\n...     if np.isclose(G[i], Vout[i]/Vin[i], atol = 0, rtol = 0.03) != True:\n...         test = False\n>>> test\nTrue",
         "hidden": false,
         "locked": false
        }
       ],
       "scored": true,
       "setup": "",
       "teardown": "",
       "type": "doctest"
      }
     ]
    },
    "G_uncertainty": {
     "name": "G_uncertainty",
     "points": 1,
     "suites": [
      {
       "cases": [
        {
         "code": ">>> len(errG) != 0\nTrue",
         "hidden": false,
         "locked": false
        },
        {
         "code": ">>> test = True\n>>> for i in range(len(errG)):\n...     if np.isclose(errG[i], np.sqrt((errVout[i]/Vin[i])**2 + (errVin[i]*Vout[i]/Vin[i]**2)**2), atol = 0, rtol = 0.03) != True:\n...         test = False\n>>> test\nTrue",
         "hidden": false,
         "locked": false
        }
       ],
       "scored": true,
       "setup": "",
       "teardown": "",
       "type": "doctest"
      }
     ]
    },
    "logG_uncertainty": {
     "name": "logG_uncertainty",
     "points": 1,
     "suites": [
      {
       "cases": [
        {
         "code": ">>> len(errlogG) != 0\nTrue",
         "hidden": false,
         "locked": false
        },
        {
         "code": ">>> test = True\n>>> for i in range(len(errlogG)):\n...     if np.isclose(errlogG[i], (1/np.log(10))*(errG[i]/G[i]), atol = 0, rtol = 0.03) != True:\n...         test = False\n>>> test\nTrue",
         "hidden": false,
         "locked": false
        }
       ],
       "scored": true,
       "setup": "",
       "teardown": "",
       "type": "doctest"
      }
     ]
    }
   }
  },
  "vscode": {
   "interpreter": {
    "hash": "a1ce1a55934a23fd40442cf0356ecbdd657c4299d40a67360326f76004edb0e0"
   }
  }
 },
 "nbformat": 4,
 "nbformat_minor": 5
}
